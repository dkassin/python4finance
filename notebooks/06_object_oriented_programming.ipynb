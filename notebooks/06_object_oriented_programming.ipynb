{
 "cells": [
  {
   "cell_type": "markdown",
   "metadata": {},
   "source": [
    "# Aspect of object oriented programming"
   ]
  },
  {
   "cell_type": "markdown",
   "metadata": {},
   "source": [
    "## 1. Abstraction\n",
    "    - attributes and methods allow building abstract, flexible models of objects, with a focus on what is relevant and neglecting what is not needed. \n",
    "    - Example: Having a general class teh models a financial instrument in abstract fashion.   \n",
    "        - Instances of that class would then be concrete financial products. \n",
    "    \n",
    "## 2. Modularity\n",
    "    - simplifies breaking code down into multiple modules which are then linked to form the complete code block.\n",
    "    - Example: modeling a european option on a stock code have one class or two classes. One for stocks and one for options. \n",
    "\n",
    "## 3. Inheritance\n",
    "    - The concept that one class and inherit attributes and methods from another higher level class.\n",
    "\n",
    "## 4. Aggregation\n",
    "    - refers to the case in which an object is at least partly made up of multiple other objects that might exist independently.\n",
    "\n",
    "## 5. Composition\n",
    "    - Similar to aggregation, but here the single objects cannot exist independently of eachother.\n",
    "\n",
    "## 6. Polymorphism\n",
    "    - Standard operation can be implemented on many different classes and their instances without knowing exactly what object one is dealing with.\n",
    "    - Example: For a class of financial instruments, this might mean that you can call a method get_current_price() independent of the specific type of the object(stock, option, swap)\n",
    "\n",
    "## 7. Encapsulation\n",
    "    - The approach of making data within a class accessible only via public methods. \n",
    "    \n",
    "\n",
    "# Major Themes: \n",
    "## Reusability\n",
    "    - inheritance and polymorphism improve code reusability and increase the efficiency and productivity of the programmer while also simplifying code maintenance.\n",
    "\n",
    "## Nonredudency\n",
    "    - allows you to build almost nonredundant code, avoiding double implementation effort, reducing debugging, testing and maintenance effor. This will also lead to a smaller overall codebase. \n",
    "\n",
    "\n",
    "# Python Data Model\n",
    "    - allows you to design classes that consistently interact with basic language constructs of Python. \n",
    "    - Basically allows you to use built in methods and functions.\n"
   ]
  }
 ],
 "metadata": {
  "language_info": {
   "name": "python"
  }
 },
 "nbformat": 4,
 "nbformat_minor": 2
}
