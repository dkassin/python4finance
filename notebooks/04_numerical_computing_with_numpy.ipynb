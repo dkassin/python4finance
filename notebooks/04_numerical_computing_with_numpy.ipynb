{
 "cells": [
  {
   "cell_type": "code",
   "execution_count": 14,
   "metadata": {},
   "outputs": [
    {
     "data": {
      "text/plain": [
       "array([ 0.,  1.,  3.,  6., 10., 15., 21., 28.])"
      ]
     },
     "execution_count": 14,
     "metadata": {},
     "output_type": "execute_result"
    }
   ],
   "source": [
    "import numpy as np\n",
    "\n",
    "a = np.array([0, 0.5, 1.0, 1.5, 2.0])\n",
    "a\n",
    "\n",
    "type(a)\n",
    "\n",
    "a = np.array(['a', 'b', 'c'])\n",
    "a\n",
    "\n",
    "a = np.arange(2,20,2)\n",
    "a\n",
    "\n",
    "a = np.arange(8, dtype=np.float64)\n",
    "a\n",
    "\n",
    "a[5:]\n",
    "a[:2]\n",
    "\n",
    "a.sum()\n",
    "a.std()\n",
    "a.cumsum()"
   ]
  },
  {
   "cell_type": "code",
   "execution_count": 20,
   "metadata": {},
   "outputs": [
    {
     "data": {
      "text/plain": [
       "array([1.00000e+00, 1.00000e+00, 4.00000e+00, 2.70000e+01, 2.56000e+02,\n",
       "       3.12500e+03, 4.66560e+04, 8.23543e+05])"
      ]
     },
     "execution_count": 20,
     "metadata": {},
     "output_type": "execute_result"
    }
   ],
   "source": [
    "# Vectorized mathematical operations\n",
    "# Scaler multiplacation with list objects leads to a repitition of elements\n",
    "l = [0., 0.5, 1.5, 3., 5.]\n",
    "2 * l\n",
    "\n",
    "# ndarray objects implements a proper scaler multiplication\n",
    "a\n",
    "2 * a\n",
    "a ** 2\n",
    "2 ** a\n",
    "a ** a"
   ]
  },
  {
   "cell_type": "code",
   "execution_count": 61,
   "metadata": {},
   "outputs": [
    {
     "name": "stdout",
     "output_type": "stream",
     "text": [
      "[[ 0.  1.  2.  3.  4.  5.  6.  7.]\n",
      " [ 0.  2.  4.  6.  8. 10. 12. 14.]]\n",
      "[[0 0 0]\n",
      " [0 0 0]]\n",
      "[[[1 1 1 1]\n",
      "  [1 1 1 1]\n",
      "  [1 1 1 1]]\n",
      "\n",
      " [[1 1 1 1]\n",
      "  [1 1 1 1]\n",
      "  [1 1 1 1]]]\n",
      "[[[0. 0. 0. 0.]\n",
      "  [0. 0. 0. 0.]\n",
      "  [0. 0. 0. 0.]]\n",
      "\n",
      " [[0. 0. 0. 0.]\n",
      "  [0. 0. 0. 0.]\n",
      "  [0. 0. 0. 0.]]]\n",
      "[[[1. 1. 1. 1.]\n",
      "  [1. 1. 1. 1.]\n",
      "  [1. 1. 1. 1.]]\n",
      "\n",
      " [[1. 1. 1. 1.]\n",
      "  [1. 1. 1. 1.]\n",
      "  [1. 1. 1. 1.]]]\n",
      "[[[ 5.          5.90909091]\n",
      "  [ 6.81818182  7.72727273]\n",
      "  [ 8.63636364  9.54545455]]\n",
      "\n",
      " [[10.45454545 11.36363636]\n",
      "  [12.27272727 13.18181818]\n",
      "  [14.09090909 15.        ]]]\n",
      "[ 5.          5.90909091  6.81818182  7.72727273  8.63636364  9.54545455\n",
      " 10.45454545 11.36363636 12.27272727 13.18181818 14.09090909 15.        ]\n",
      "[ 0  1  2  3  4  5  6  7  8  9 10 11 12 13 14]\n",
      "(15,)\n",
      "(15,)\n",
      "[[ 0  1  2  3  4]\n",
      " [ 5  6  7  8  9]\n",
      " [10 11 12 13 14]]\n",
      "[[ 0  1  2]\n",
      " [ 3  4  5]\n",
      " [ 6  7  8]\n",
      " [ 9 10 11]\n",
      " [12 13 14]]\n",
      "[[ 0  3  6  9 12]\n",
      " [ 1  4  7 10 13]\n",
      " [ 2  5  8 11 14]]\n",
      "[[ 0  3  6  9 12]\n",
      " [ 1  4  7 10 13]\n",
      " [ 2  5  8 11 14]]\n",
      "[ 0  1  2  3  4  5  6  7  8  9 10 11 12 13 14]\n",
      "[[0]\n",
      " [1]\n",
      " [2]]\n",
      "[[ 0  1  2  0  2  4]\n",
      " [ 3  4  5  6  8 10]\n",
      " [ 6  7  8 12 14 16]\n",
      " [ 9 10 11 18 20 22]\n",
      " [12 13 14 24 26 28]]\n"
     ]
    }
   ],
   "source": [
    "# Universl functions have reduced performance when not using the math module\n",
    "\n",
    "np.exp(a)\n",
    "np.sqrt(a)\n",
    "np.sqrt(2.5)\n",
    "\n",
    "import math\n",
    "\n",
    "math.sqrt(2.5)\n",
    "# math.sqrt(a)\n",
    "# math.sqrt() function cannot be appled to ndarray object directly\n",
    "\n",
    "# %timeit np.sqrt(2.5)\n",
    "# %timeit math.sqrt(2.5)\n",
    "\n",
    "# np.sqrt is much slower then math.sqrt\n",
    "\n",
    "b = np.array([a, a * 2])\n",
    "b\n",
    "\n",
    "print(b)\n",
    "\n",
    "b[0]\n",
    "b[0 ,2]\n",
    "b[:, 1]\n",
    "b.sum()\n",
    "b.sum(axis=0)\n",
    "b.sum(axis=1)\n",
    "\n",
    "c = np.zeros((2,3), dtype='i', order='C')\n",
    "\n",
    "print(c)\n",
    "\n",
    "c = np.ones((2,3,4), dtype='i', order='C' )\n",
    "\n",
    "print(c)\n",
    "\n",
    "d = np.zeros_like(c, dtype=np.float16, order='C')\n",
    "print(d)\n",
    "\n",
    "d = np.ones_like(c, dtype=np.float16, order='C')\n",
    "print(d)\n",
    "\n",
    "e = np.empty((2,3,2))\n",
    "print(e)\n",
    "\n",
    "g = np.linspace(5, 15, 12)\n",
    "print(g)\n",
    "\n",
    "g.size\n",
    "g.itemsize\n",
    "g.ndim\n",
    "g.shape\n",
    "g.dtype\n",
    "g.nbytes\n",
    "\n",
    "def p(value):\n",
    "    print(value)\n",
    "\n",
    "g = np.arange(15)\n",
    "p(g)\n",
    "p(g.shape)\n",
    "p(np.shape(g))\n",
    "p(g.reshape((3,5)))\n",
    "h = g.reshape(5,3)\n",
    "p(h)\n",
    "p(h.T)\n",
    "p(h.transpose())\n",
    "\n",
    "p(g)\n",
    "p(np.resize(g, (3,1)))\n",
    "\n",
    "p(np.hstack((h, 2 * h)))\n"
   ]
  },
  {
   "cell_type": "code",
   "execution_count": 66,
   "metadata": {},
   "outputs": [
    {
     "name": "stdout",
     "output_type": "stream",
     "text": [
      "[[ 0  1  2]\n",
      " [ 3  4  5]\n",
      " [ 6  7  8]\n",
      " [ 9 10 11]]\n",
      "[[0.  0.5 1. ]\n",
      " [1.5 2.  2.5]\n",
      " [3.  3.5 4. ]\n",
      " [4.5 5.  5.5]]\n",
      "[[ 0.   1.5  3. ]\n",
      " [ 4.5  6.   7.5]\n",
      " [ 9.  10.5 12. ]\n",
      " [13.5 15.  16.5]]\n"
     ]
    }
   ],
   "source": [
    "# Basic Vectorizataion\n",
    "\n",
    "np.random.seed(100)\n",
    "r = np.arange(12).reshape((4,3))\n",
    "s = np.arange(12).reshape((4,3)) * 0.5\n",
    "\n",
    "p(r)\n",
    "p(s)\n",
    "p(r+s)"
   ]
  }
 ],
 "metadata": {
  "kernelspec": {
   "display_name": "myenv",
   "language": "python",
   "name": "python3"
  },
  "language_info": {
   "codemirror_mode": {
    "name": "ipython",
    "version": 3
   },
   "file_extension": ".py",
   "mimetype": "text/x-python",
   "name": "python",
   "nbconvert_exporter": "python",
   "pygments_lexer": "ipython3",
   "version": "3.9.6"
  }
 },
 "nbformat": 4,
 "nbformat_minor": 2
}
