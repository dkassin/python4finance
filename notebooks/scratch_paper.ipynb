{
 "cells": [
  {
   "cell_type": "code",
   "execution_count": 98,
   "metadata": {},
   "outputs": [
    {
     "name": "stdout",
     "output_type": "stream",
     "text": [
      "[[], [], [], [], [], [], [], [], [], [], [], [], [], [], [], [], [], [], [], [], [], [], [], [], [], [], [], [], [], [], [], [], [], [], [], [], [], [], [], [], [], [], [], [], [], [], [], [], [], [], [], [], [], [], [], [], [], [], [], [], [], [], [], [], [], [], [], [], [], [], [], [], [], [], [], [], [], [], [], [], [], [], [], [], [], [], [], [], [], [], [], [], [], [], [], [], [], [], [], []]\n"
     ]
    },
    {
     "data": {
      "text/plain": [
       "[[], []]"
      ]
     },
     "execution_count": 98,
     "metadata": {},
     "output_type": "execute_result"
    }
   ],
   "source": [
    "import numpy as np\n",
    "\n",
    "# example of list comprehension\n",
    "x = [ [] for i in range(100)]\n",
    "len(x)\n",
    "print(x)\n",
    "y = list([[],[]])\n",
    "y"
   ]
  },
  {
   "cell_type": "code",
   "execution_count": 96,
   "metadata": {},
   "outputs": [
    {
     "name": "stdout",
     "output_type": "stream",
     "text": [
      "True\n",
      "False\n",
      "False\n",
      "True\n",
      "False_1\n",
      "False\n"
     ]
    }
   ],
   "source": [
    "\n",
    "\n",
    "sudoku_board = [\n",
    "    [5, 3, 3, 6, 7, 8, 9, 1, 2],\n",
    "    [6, 7, 2, 1, 9, 5, 3, 4, 8],\n",
    "    [1, 9, 8, 3, 4, 2, 5, 6, 7],\n",
    "    [8, 5, 9, 7, 6, 1, 4, 2, 3],\n",
    "    [4, 2, 6, 8, 5, 3, 7, 9, 1],\n",
    "    [7, 1, 1, 9, 2, 4, 8, 5, 6],\n",
    "    [9, 6, 1, 5, 3, 7, 2, 8, 4],\n",
    "    [2, 8, 7, 4, 1, 9, 6, 3, 5],\n",
    "    [3, 4, 5, 2, 8, 6, 1, 7, 9]\n",
    "]\n",
    "\n",
    "valid_sudoku_board = [\n",
    "    [5, 3, 4, 6, 7, 8, 9, 1, 2],\n",
    "    [6, 7, 2, 1, 9, 5, 3, 4, 8],\n",
    "    [1, 9, 8, 3, 4, 2, 5, 6, 7],\n",
    "    [8, 5, 9, 7, 6, 1, 4, 2, 3],\n",
    "    [4, 2, 6, 8, 5, 3, 7, 9, 1],\n",
    "    [7, 1, 3, 9, 2, 4, 8, 5, 6],\n",
    "    [9, 6, 1, 5, 3, 7, 2, 8, 4],\n",
    "    [2, 8, 7, 4, 1, 9, 6, 3, 5],\n",
    "    [3, 4, 5, 2, 8, 6, 1, 7, 9]\n",
    "]\n",
    "\n",
    "def check_array(array):\n",
    "    duplicate_check = set(array)\n",
    "    if any(num == 0 for num in duplicate_check):\n",
    "        return False\n",
    "    elif len(duplicate_check) != 9:\n",
    "        return False\n",
    "    return True\n",
    "\n",
    "array_1 = [5, 3, 4, 6, 7, 8, 9, 1, 2]\n",
    "array_2 = [6, 7, 2, 1, 0, 5, 3, 4, 8]\n",
    "array_3 = [6, 7, 2, 1, 8, 5, 3, 4, 8]\n",
    "print(check_array(array_1))\n",
    "print(check_array(array_2))\n",
    "print(check_array(array_3))\n",
    "\n",
    "def valid_sudoku(board):\n",
    "    for array in board:\n",
    "        if not check_array(array):\n",
    "            print('False_1')\n",
    "            return False\n",
    "\n",
    "    transposed_board = np.transpose(board)\n",
    "    for array in transposed_board:\n",
    "        if not check_array(array):\n",
    "            print('False_2')\n",
    "            return False\n",
    "\n",
    "    reshaped_board = np.array(board).reshape(3,3,3,3).transpose(0,2,1,3).reshape(9,3,3)\n",
    "    for array in reshaped_board:\n",
    "        flat_array = array.flatten()\n",
    "        if not check_array(flat_array):\n",
    "            print('False_2')\n",
    "            return False\n",
    "\n",
    "    return True\n",
    "\n",
    "print(valid_sudoku(valid_sudoku_board))\n",
    "print(valid_sudoku(sudoku_board))\n"
   ]
  }
 ],
 "metadata": {
  "kernelspec": {
   "display_name": "myenv",
   "language": "python",
   "name": "python3"
  },
  "language_info": {
   "codemirror_mode": {
    "name": "ipython",
    "version": 3
   },
   "file_extension": ".py",
   "mimetype": "text/x-python",
   "name": "python",
   "nbconvert_exporter": "python",
   "pygments_lexer": "ipython3",
   "version": "3.9.6"
  }
 },
 "nbformat": 4,
 "nbformat_minor": 2
}
