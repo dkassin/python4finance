{
 "cells": [
  {
   "cell_type": "markdown",
   "metadata": {},
   "source": [
    "# Input/Output Operations"
   ]
  },
  {
   "cell_type": "markdown",
   "metadata": {},
   "source": [
    "Pickle can be used to serialize the majority of python objects\n",
    "\n",
    "Serialization refers to the conversion of an object(hierarchy) to a byte stream.\n",
    "\n",
    "Deserialization is the opposite operation."
   ]
  },
  {
   "cell_type": "markdown",
   "metadata": {},
   "source": [
    "# When to use 'wb' or 'rb'\n",
    "## Use 'wb'\n",
    "    - Purpose: Opens a file for writing in binary mode. If the file does not exist, it will be created. If it does exist, its contents will be truncated (i.e., overwritten).\n",
    "    - Usage: You use 'wb' when you want to save or serialize data to a file using the pickle.dump() function.\n",
    "\n",
    "## Use 'rb'\n",
    "    - Purpose: Opens a file for reading in binary mode. The file must already exist; otherwise, an error will occur.\n",
    "    - Usage: You use 'rb' when you want to load or deserialize data from a file using the pickle.load() function.\n"
   ]
  },
  {
   "cell_type": "code",
   "execution_count": 1,
   "metadata": {},
   "outputs": [],
   "source": [
    "from pylab import  plt \n",
    "plt.style.use('ggplot')\n",
    "%matplotlib inline"
   ]
  },
  {
   "cell_type": "code",
   "execution_count": 2,
   "metadata": {},
   "outputs": [],
   "source": [
    "import pickle\n",
    "import numpy as np\n",
    "from random import gauss"
   ]
  },
  {
   "cell_type": "code",
   "execution_count": 7,
   "metadata": {},
   "outputs": [],
   "source": [
    "a = [gauss(1.5, 2) for i in range(1000000)]\n",
    "path = '/Users/davidkassin/python/python4finance/'\n",
    "pkl_file = open(path + 'data.pkl', 'wb')"
   ]
  },
  {
   "cell_type": "code",
   "execution_count": 8,
   "metadata": {},
   "outputs": [
    {
     "name": "stdout",
     "output_type": "stream",
     "text": [
      "CPU times: user 15.1 ms, sys: 9.33 ms, total: 24.4 ms\n",
      "Wall time: 25.9 ms\n"
     ]
    }
   ],
   "source": [
    "%time pickle.dump(a, pkl_file)\n",
    "pkl_file.close()\n"
   ]
  },
  {
   "cell_type": "code",
   "execution_count": 17,
   "metadata": {},
   "outputs": [
    {
     "name": "stdout",
     "output_type": "stream",
     "text": [
      "CPU times: user 19.3 ms, sys: 22.2 ms, total: 41.6 ms\n",
      "Wall time: 68.5 ms\n",
      "[0.8285310526943263, 0.37223315919704025, -0.4878676963268038]\n",
      "Type of b: <class 'list'>\n"
     ]
    },
    {
     "data": {
      "text/plain": [
       "True"
      ]
     },
     "execution_count": 17,
     "metadata": {},
     "output_type": "execute_result"
    }
   ],
   "source": [
    "pkl_file = open(path + 'data.pkl', 'rb')\n",
    "%time b = pickle.load(pkl_file)\n",
    "print(b[:3])\n",
    "print(\"Type of b:\", type(b))\n",
    "np.allclose(np.array(a), np.array(b))"
   ]
  },
  {
   "cell_type": "markdown",
   "metadata": {},
   "source": [
    "Pickle stores objects according to a first in, first out principle. Heads up, there is no meta information available to the user to know beforehand what is stored in a pickle file. "
   ]
  },
  {
   "cell_type": "code",
   "execution_count": 24,
   "metadata": {},
   "outputs": [
    {
     "name": "stdout",
     "output_type": "stream",
     "text": [
      "CPU times: user 26.6 ms, sys: 23.2 ms, total: 49.8 ms\n",
      "Wall time: 61.2 ms\n",
      "CPU times: user 24.1 ms, sys: 3.28 ms, total: 27.4 ms\n",
      "Wall time: 28.8 ms\n"
     ]
    }
   ],
   "source": [
    "pkl_file = open(path + 'data.pkl', 'wb')\n",
    "%time pickle.dump(np.array(a), pkl_file)\n",
    "%time pickle.dump(np.array(a) ** 2, pkl_file)\n",
    "pkl_file.close()"
   ]
  },
  {
   "cell_type": "code",
   "execution_count": 28,
   "metadata": {},
   "outputs": [],
   "source": [
    "pkl_file = open(path + 'data.pkl', 'rb')\n",
    "x = pickle.load(pkl_file)\n",
    "x[:4]\n",
    "\n",
    "y = pickle.load(pkl_file)\n",
    "y[:4]\n",
    "\n",
    "pkl_file.close()"
   ]
  },
  {
   "cell_type": "code",
   "execution_count": 29,
   "metadata": {},
   "outputs": [
    {
     "name": "stdout",
     "output_type": "stream",
     "text": [
      "x [ 0.82853105  0.37223316 -0.4878677   3.54319414]\n",
      "y [ 0.68646371  0.13855752  0.23801489 12.5542247 ]\n"
     ]
    }
   ],
   "source": [
    "pkl_file = open(path + 'data.pkl', 'wb')\n",
    "pickle.dump({'x':x, 'y':y}, pkl_file)\n",
    "pkl_file.close()\n",
    "\n",
    "pkl_file = open(path + 'data.pkl', 'rb')\n",
    "data = pickle.load(pkl_file)\n",
    "pkl_file.close()\n",
    "for key in data.keys():\n",
    "    print(key, data[key][:4])"
   ]
  },
  {
   "cell_type": "markdown",
   "metadata": {},
   "source": [
    "# Reading and Writing Text Files"
   ]
  },
  {
   "cell_type": "code",
   "execution_count": 34,
   "metadata": {},
   "outputs": [
    {
     "name": "stderr",
     "output_type": "stream",
     "text": [
      "/var/folders/q4/qlhh3zds71n242024cd1plqr0000gn/T/ipykernel_9816/1516353273.py:5: FutureWarning: 'H' is deprecated and will be removed in a future version, please use 'h' instead.\n",
      "  t = pd.date_range(start='2019/1/1', periods=rows, freq='H')\n"
     ]
    }
   ],
   "source": [
    "import pandas as pd\n",
    "rows = 5000\n",
    "a = np.random.standard_normal((rows, 5)).round(4)\n",
    "a\n",
    "t = pd.date_range(start='2019/1/1', periods=rows, freq='H')\n",
    "t\n",
    "\n",
    "csv_file = open(path + 'data.csv', 'w')\n",
    "header = 'date,no1,no2,no3,no4,no5\\n'\n",
    "csv_file.write(header)\n",
    "\n",
    "for t_, (no1,no2,no3,no4,no5) in zip(t, a):\n",
    "    s = '{},{},{},{},{}\\n'.format(t_, no1,no2,no3,no4,no5)\n",
    "    csv_file.write(s)\n",
    "\n",
    "csv_file.close()"
   ]
  },
  {
   "cell_type": "code",
   "execution_count": 39,
   "metadata": {},
   "outputs": [
    {
     "name": "stdout",
     "output_type": "stream",
     "text": [
      "date,no1,no2,no3,no4,no5\n",
      "2019-01-01 00:00:00,-0.0564,-0.7167,0.5548,1.2196\n",
      "2019-01-01 01:00:00,-0.1468,-1.2097,-0.0862,0.433\n",
      "2019-01-01 02:00:00,1.0664,0.0166,-0.1262,1.8399\n",
      "2019-01-01 03:00:00,0.361,0.2379,0.608,-0.3203\n"
     ]
    }
   ],
   "source": [
    "csv_file = open(path + 'data.csv', 'r')\n",
    "for i in range(5):\n",
    "    print(csv_file.readline(), end='')\n",
    "csv_file.close()\n",
    "csv_file = open(path + 'data.csv', 'r')\n",
    "content = csv_file.readlines()\n",
    "content[:5]\n",
    "csv_file.close()"
   ]
  },
  {
   "cell_type": "code",
   "execution_count": 41,
   "metadata": {},
   "outputs": [],
   "source": [
    "import csv\n",
    "\n",
    "with open(path + 'data.csv', 'r') as f:\n",
    "    csv_reader = csv.reader(f)\n",
    "    lines = [line for line in csv_reader]\n",
    "\n",
    "lines[:5]\n",
    "\n"
   ]
  },
  {
   "cell_type": "code",
   "execution_count": 43,
   "metadata": {},
   "outputs": [
    {
     "data": {
      "text/plain": [
       "[{'date': '2019-01-01 00:00:00',\n",
       "  'no1': '-0.0564',\n",
       "  'no2': '-0.7167',\n",
       "  'no3': '0.5548',\n",
       "  'no4': '1.2196',\n",
       "  'no5': None},\n",
       " {'date': '2019-01-01 01:00:00',\n",
       "  'no1': '-0.1468',\n",
       "  'no2': '-1.2097',\n",
       "  'no3': '-0.0862',\n",
       "  'no4': '0.433',\n",
       "  'no5': None},\n",
       " {'date': '2019-01-01 02:00:00',\n",
       "  'no1': '1.0664',\n",
       "  'no2': '0.0166',\n",
       "  'no3': '-0.1262',\n",
       "  'no4': '1.8399',\n",
       "  'no5': None}]"
      ]
     },
     "execution_count": 43,
     "metadata": {},
     "output_type": "execute_result"
    }
   ],
   "source": [
    "with open(path + 'data.csv', 'r') as f:\n",
    "    csv_reader = csv.DictReader(f)\n",
    "    lines = [line for line in csv_reader]\n",
    "\n",
    "lines[:3]"
   ]
  },
  {
   "cell_type": "markdown",
   "metadata": {},
   "source": [
    "# Working with SQL DBs"
   ]
  },
  {
   "cell_type": "code",
   "execution_count": 45,
   "metadata": {},
   "outputs": [
    {
     "ename": "OperationalError",
     "evalue": "table numbs already exists",
     "output_type": "error",
     "traceback": [
      "\u001b[0;31m---------------------------------------------------------------------------\u001b[0m",
      "\u001b[0;31mOperationalError\u001b[0m                          Traceback (most recent call last)",
      "Cell \u001b[0;32mIn[45], line 6\u001b[0m\n\u001b[1;32m      3\u001b[0m con \u001b[38;5;241m=\u001b[39m sq3\u001b[38;5;241m.\u001b[39mconnect(path \u001b[38;5;241m+\u001b[39m \u001b[38;5;124m'\u001b[39m\u001b[38;5;124mnumbs.db\u001b[39m\u001b[38;5;124m'\u001b[39m)\n\u001b[1;32m      4\u001b[0m query \u001b[38;5;241m=\u001b[39m \u001b[38;5;124m'\u001b[39m\u001b[38;5;124mCREATE TABLE numbs (Date date, No1 real, No2 real)\u001b[39m\u001b[38;5;124m'\u001b[39m\n\u001b[0;32m----> 6\u001b[0m \u001b[43mcon\u001b[49m\u001b[38;5;241;43m.\u001b[39;49m\u001b[43mexecute\u001b[49m\u001b[43m(\u001b[49m\u001b[43mquery\u001b[49m\u001b[43m)\u001b[49m\n\u001b[1;32m      8\u001b[0m con\u001b[38;5;241m.\u001b[39mcommit()\n",
      "\u001b[0;31mOperationalError\u001b[0m: table numbs already exists"
     ]
    }
   ],
   "source": [
    "import sqlite3 as sq3\n",
    "\n",
    "con = sq3.connect(path + 'numbs.db')\n",
    "query = 'CREATE TABLE numbs (Date date, No1 real, No2 real)'\n",
    "\n",
    "con.execute(query)\n",
    "\n"
   ]
  },
  {
   "cell_type": "code",
   "execution_count": 47,
   "metadata": {},
   "outputs": [
    {
     "data": {
      "text/plain": [
       "[('table',\n",
       "  'numbs',\n",
       "  'numbs',\n",
       "  2,\n",
       "  'CREATE TABLE numbs (Date date, No1 real, No2 real)')]"
      ]
     },
     "execution_count": 47,
     "metadata": {},
     "output_type": "execute_result"
    }
   ],
   "source": [
    "con.commit()\n",
    "\n",
    "q = con.execute\n",
    "q('SELECt * FROM sqlite_master').fetchall()"
   ]
  },
  {
   "cell_type": "code",
   "execution_count": 48,
   "metadata": {},
   "outputs": [
    {
     "data": {
      "text/plain": [
       "<sqlite3.Cursor at 0x10d8c4c00>"
      ]
     },
     "execution_count": 48,
     "metadata": {},
     "output_type": "execute_result"
    }
   ],
   "source": [
    "import datetime\n",
    "now = datetime.datetime.now()\n",
    "q('INSERT INTO numbs VALUES(?, ?, ?)', (now, 0.12, 7.3))"
   ]
  },
  {
   "cell_type": "code",
   "execution_count": 51,
   "metadata": {},
   "outputs": [],
   "source": [
    "np.random.seed(100)\n",
    "data = np.random.standard_normal((10000, 2)).round(4)"
   ]
  },
  {
   "cell_type": "code",
   "execution_count": 52,
   "metadata": {},
   "outputs": [
    {
     "name": "stdout",
     "output_type": "stream",
     "text": [
      "CPU times: user 44.8 ms, sys: 3.76 ms, total: 48.6 ms\n",
      "Wall time: 50.1 ms\n"
     ]
    }
   ],
   "source": [
    "%%time\n",
    "for row in data:\n",
    "    now = datetime.datetime.now()\n",
    "    q('INSERT INTO numbs VALUES(?, ?,?)', (now, row[0], row[1]))\n",
    "con.commit()\n"
   ]
  },
  {
   "cell_type": "code",
   "execution_count": 53,
   "metadata": {},
   "outputs": [
    {
     "data": {
      "text/plain": [
       "[('2024-08-19 11:19:23.068499', 0.12, 7.3),\n",
       " ('2024-08-19 11:21:29.471758', -1.7498, 0.3427),\n",
       " ('2024-08-19 11:21:29.472364', 1.153, -0.2524),\n",
       " ('2024-08-19 11:21:29.472448', 0.9813, 0.5142)]"
      ]
     },
     "execution_count": 53,
     "metadata": {},
     "output_type": "execute_result"
    }
   ],
   "source": [
    "q('SELECt * FROM numbs').fetchmany(4)"
   ]
  }
 ],
 "metadata": {
  "kernelspec": {
   "display_name": "myenv",
   "language": "python",
   "name": "python3"
  },
  "language_info": {
   "codemirror_mode": {
    "name": "ipython",
    "version": 3
   },
   "file_extension": ".py",
   "mimetype": "text/x-python",
   "name": "python",
   "nbconvert_exporter": "python",
   "pygments_lexer": "ipython3",
   "version": "3.9.6"
  }
 },
 "nbformat": 4,
 "nbformat_minor": 2
}
